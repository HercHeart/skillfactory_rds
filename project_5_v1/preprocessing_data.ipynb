{
 "cells": [
  {
   "cell_type": "code",
   "execution_count": 750,
   "metadata": {},
   "outputs": [],
   "source": [
    "import numpy as np # linear algebra\n",
    "import pandas as pd # data processing, CSV file I/O (e.g. pd.read_csv)\n",
    "import re\n",
    "from datetime import datetime"
   ]
  },
  {
   "cell_type": "code",
   "execution_count": 519,
   "metadata": {},
   "outputs": [],
   "source": [
    "test = pd.read_csv('test.csv')\n",
    "\n",
    "test.sample(3)"
   ]
  },
  {
   "cell_type": "code",
   "execution_count": 520,
   "metadata": {},
   "outputs": [],
   "source": [
    "mar14 = pd.read_csv('auto_ru_14mar2021_full.csv')"
   ]
  },
  {
   "cell_type": "markdown",
   "metadata": {},
   "source": [
    "# обработка для объединения баз"
   ]
  },
  {
   "cell_type": "code",
   "execution_count": 521,
   "metadata": {},
   "outputs": [],
   "source": [
    "mar14 = mar14[mar14.bodyType.notna()].reset_index(drop=True)"
   ]
  },
  {
   "cell_type": "code",
   "execution_count": 522,
   "metadata": {},
   "outputs": [],
   "source": [
    "# bodyType\n",
    "def bt(x):\n",
    "    for i in bodytypes:\n",
    "        if i in x.lower(): return i\n",
    "\n",
    "mar14.bodyType = mar14.bodyType.apply(bt) # приводим "
   ]
  },
  {
   "cell_type": "code",
   "execution_count": 523,
   "metadata": {},
   "outputs": [],
   "source": [
    "# делаем нормальный один столбец с цветом\n",
    "clr = {x: 0 for x in mar14['color_hex'].unique()}\n",
    "\n",
    "for x in clr: \n",
    "    try:\n",
    "        clr[x] = mar14[mar14['color_hex'] == x]['color'].value_counts().index[0]\n",
    "    except:\n",
    "        clr[x] = 'away'\n",
    "\n",
    "clr['FFC0CB'], clr['FFD600'], clr['040001'] = 'розовый', 'жёлтый', 'черный'\n",
    "\n",
    "mar14['color_hex'] = mar14['color_hex'].apply(lambda x: clr[x])\n",
    "mar14['color'] = mar14['color_hex']\n",
    "mar14 = mar14.drop(['color_hex', 'color2'], axis=1)"
   ]
  },
  {
   "cell_type": "code",
   "execution_count": 524,
   "metadata": {},
   "outputs": [],
   "source": [
    "# удалим строки в которых нет цены\n",
    "mar14 = mar14.dropna(subset = ['Price'], axis=0).reset_index(drop=True)"
   ]
  },
  {
   "cell_type": "code",
   "execution_count": 525,
   "metadata": {},
   "outputs": [],
   "source": [
    "mar14 = mar14.drop(['Unnamed: 0'], axis=1)"
   ]
  },
  {
   "cell_type": "code",
   "execution_count": 526,
   "metadata": {},
   "outputs": [],
   "source": [
    "# приводим к нужному виду колонку engineDisplacement и удаляем электрокары\n",
    "\n",
    "def engineDisplacement_func(x):\n",
    "    try:\n",
    "        return re.findall(r'\\d\\.\\d', x)[0] + ' LTR'\n",
    "    except:\n",
    "        return ' LTR'\n",
    "\n",
    "mar14['engineDisplacement'] = mar14['engineDisplacement'].apply(engineDisplacement_func)"
   ]
  },
  {
   "cell_type": "code",
   "execution_count": 527,
   "metadata": {},
   "outputs": [],
   "source": [
    "# приводим к одному виду колонку enginePower\n",
    "\n",
    "mar14['enginePower'] = mar14['enginePower'].apply(lambda x: str(int(x)) + ' N12')"
   ]
  },
  {
   "cell_type": "code",
   "execution_count": 528,
   "metadata": {},
   "outputs": [],
   "source": [
    "# приводим в порядок колонку fuelType\n",
    "\n",
    "fuelType_dict = {'GASOLINE': 'бензин', 'DIESEL': 'дизель', 'ELECTRO': 'электро', \n",
    "                 'HYBRID': 'гибрид', 'LPG': 'газ'}\n",
    "\n",
    "mar14['fuelType'] = mar14['fuelType'].apply(lambda x: fuelType_dict[x])"
   ]
  },
  {
   "cell_type": "code",
   "execution_count": 529,
   "metadata": {},
   "outputs": [],
   "source": [
    "# приводим в порядок колонку mileage\n",
    "\n",
    "mar14['mileage'] = mar14['mileage'].apply(lambda x: int(x))"
   ]
  },
  {
   "cell_type": "code",
   "execution_count": 530,
   "metadata": {},
   "outputs": [],
   "source": [
    "# приводим в порядок колонку modelDate\n",
    "\n",
    "mar14['modelDate'] = mar14['modelDate'].apply(lambda x: int(x))"
   ]
  },
  {
   "cell_type": "code",
   "execution_count": 531,
   "metadata": {},
   "outputs": [],
   "source": [
    "# приводим в порядок колонку numberOfDoors\n",
    "\n",
    "mar14['numberOfDoors'] = mar14['numberOfDoors'].apply(lambda x: np.int64(x))"
   ]
  },
  {
   "cell_type": "code",
   "execution_count": 532,
   "metadata": {},
   "outputs": [],
   "source": [
    "# приводим в порядок колонку parsing_unixtime\n",
    "\n",
    "mar14['parsing_unixtime'] = mar14['parsing_unixtime'].apply(lambda x: np.int64(str(x)[:10]))"
   ]
  },
  {
   "cell_type": "code",
   "execution_count": 533,
   "metadata": {},
   "outputs": [],
   "source": [
    "# приводим в порядок колонку productionDate\n",
    "\n",
    "mar14['productionDate'] = mar14['productionDate'].apply(lambda x: np.int64(x))"
   ]
  },
  {
   "cell_type": "code",
   "execution_count": 534,
   "metadata": {},
   "outputs": [],
   "source": [
    "vehicleTransmission_dict = {'MECHANICAL': 'механическая', 'AUTOMATIC': 'автоматическая',\n",
    "                            'ROBOT': 'роботизированная', 'VARIATOR': 'вариатор'}\n",
    "mar14['vehicleTransmission'] = mar14['vehicleTransmission'].apply(lambda x: vehicleTransmission_dict[x])"
   ]
  },
  {
   "cell_type": "code",
   "execution_count": 535,
   "metadata": {},
   "outputs": [],
   "source": [
    "# поправим столбец владельцы\n",
    "\n",
    "owners_dict = {'1': '1\\xa0владелец', '3': '3 или более', '2': '2\\xa0владельца', '4': '3 или более'}\n",
    "mar14 = mar14.dropna(subset = ['Владельцы'], axis=0).reset_index(drop=True)\n",
    "\n",
    "mar14['Владельцы'] = mar14['Владельцы'].apply(lambda x: owners_dict[str(int(x))])"
   ]
  },
  {
   "cell_type": "code",
   "execution_count": 536,
   "metadata": {},
   "outputs": [],
   "source": [
    "# затащим столбец Владение\n",
    "\n",
    "def current_own(date):\n",
    "    try:\n",
    "        year = int(re.sub(r\"{'year': (\\d{4}), 'month': (\\d+)}\", r\"\\1\", date))\n",
    "        month = int(re.sub(r\"{'year': (\\d{4}), 'month': (\\d+)}\", r\"\\2\", date))\n",
    "        dt_date = datetime(year, month, 1)\n",
    "        dt_delta = datetime(2021, 3, 14) - dt_date\n",
    "        delta_year = dt_delta.days // 360\n",
    "        delta_month = dt_delta.days % 360 // 30\n",
    "        \n",
    "        if delta_year == 0:\n",
    "            if delta_month in [11, 12, 13, 14]:\n",
    "                name_month = 'месяцев'\n",
    "            elif str(delta_month)[-1] == '1':\n",
    "                name_month = 'месяц'\n",
    "            elif int(str(delta_month)[-1]) in [2, 3, 4]:\n",
    "                name_month = 'месяца'\n",
    "            elif int(str(delta_month)[-1]) in [5, 6, 7, 8, 9, 0]:\n",
    "                name_month = 'месяцев'\n",
    "            \n",
    "            return f'{delta_month} {name_month}'\n",
    "        \n",
    "        elif delta_month == 0:\n",
    "            if delta_year in [11, 12, 13, 14]:\n",
    "                name_year = 'лет'\n",
    "            elif str(delta_year)[-1] == '1':\n",
    "                name_year = 'год'\n",
    "            elif int(str(delta_year)[-1]) in [2, 3, 4]:\n",
    "                name_year = 'года'\n",
    "            elif int(str(delta_year)[-1]) in [5, 6, 7, 8, 9, 0]:\n",
    "                name_year = 'лет'            \n",
    "            \n",
    "            return f'{delta_year} {name_year}'\n",
    "        else:\n",
    "            if delta_year in [11, 12, 13, 14]:\n",
    "                name_year = 'лет'\n",
    "            elif str(delta_year)[-1] == '1':\n",
    "                name_year = 'год и'\n",
    "            elif int(str(delta_year)[-1]) in [2, 3, 4]:\n",
    "                name_year = 'года и'\n",
    "            elif int(str(delta_year)[-1]) in [5, 6, 7, 8, 9, 0]:\n",
    "                name_year = 'лет и'\n",
    "            if delta_month in [11, 12, 13, 14]:\n",
    "                name_month = 'месяцев'\n",
    "            elif str(delta_month)[-1] == '1':\n",
    "                name_month = 'месяц'\n",
    "            elif int(str(delta_month)[-1]) in [2, 3, 4]:\n",
    "                name_month = 'месяца'\n",
    "            elif int(str(delta_month)[-1]) in [5, 6, 7, 8, 9, 0]:\n",
    "                name_month = 'месяцев'\n",
    "\n",
    "            return f'{delta_year} {name_year} {delta_month} {name_month}'\n",
    "    except:\n",
    "        return np.nan\n",
    "    \n",
    "mar14['Владение'] = mar14['Владение'].apply(current_own)"
   ]
  },
  {
   "cell_type": "code",
   "execution_count": 537,
   "metadata": {},
   "outputs": [],
   "source": [
    "# тащим колонку ПТС\n",
    "\n",
    "def PTS(x):\n",
    "    if x == 'ORIGINAL': return 'Оригинал'\n",
    "    elif x == 'DUPLICATE': return 'Дубликат'\n",
    "    else: return np.nan\n",
    "\n",
    "mar14['ПТС'] = mar14['ПТС'].apply(PTS)"
   ]
  },
  {
   "cell_type": "code",
   "execution_count": 538,
   "metadata": {},
   "outputs": [],
   "source": [
    "# тащим колонку привод\n",
    "\n",
    "privod = {'REAR_DRIVE': 'задний', 'FORWARD_CONTROL': 'передний', 'ALL_WHEEL_DRIVE': 'полный'}\n",
    "\n",
    "mar14['Привод'] = mar14['Привод'].apply(lambda x: privod[x])"
   ]
  },
  {
   "cell_type": "code",
   "execution_count": 539,
   "metadata": {},
   "outputs": [],
   "source": [
    "# тащим колонку Руль\n",
    "\n",
    "wheel = {'LEFT': 'Левый', 'RIGHT': 'Правый'}\n",
    "\n",
    "mar14['Руль'] = mar14['Руль'].apply(lambda x: wheel[x])"
   ]
  },
  {
   "cell_type": "code",
   "execution_count": 540,
   "metadata": {},
   "outputs": [],
   "source": [
    "mar14.to_csv('autoru_14mar2021_remastered.csv')"
   ]
  }
 ],
 "metadata": {
  "kernelspec": {
   "display_name": "Python 3",
   "language": "python",
   "name": "python3"
  },
  "language_info": {
   "codemirror_mode": {
    "name": "ipython",
    "version": 3
   },
   "file_extension": ".py",
   "mimetype": "text/x-python",
   "name": "python",
   "nbconvert_exporter": "python",
   "pygments_lexer": "ipython3",
   "version": "3.7.4"
  }
 },
 "nbformat": 4,
 "nbformat_minor": 2
}
